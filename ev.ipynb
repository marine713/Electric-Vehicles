{
 "cells": [
  {
   "cell_type": "code",
   "execution_count": 80,
   "id": "781884a1",
   "metadata": {},
   "outputs": [
    {
     "data": {
      "text/html": [
       "<div>\n",
       "<style scoped>\n",
       "    .dataframe tbody tr th:only-of-type {\n",
       "        vertical-align: middle;\n",
       "    }\n",
       "\n",
       "    .dataframe tbody tr th {\n",
       "        vertical-align: top;\n",
       "    }\n",
       "\n",
       "    .dataframe thead th {\n",
       "        text-align: right;\n",
       "    }\n",
       "</style>\n",
       "<table border=\"1\" class=\"dataframe\">\n",
       "  <thead>\n",
       "    <tr style=\"text-align: right;\">\n",
       "      <th></th>\n",
       "      <th>VIN (1-10)</th>\n",
       "      <th>County</th>\n",
       "      <th>City</th>\n",
       "      <th>State</th>\n",
       "      <th>Postal Code</th>\n",
       "      <th>Model Year</th>\n",
       "      <th>Make</th>\n",
       "      <th>Model</th>\n",
       "      <th>Electric Vehicle Type</th>\n",
       "      <th>Clean Alternative Fuel Vehicle (CAFV) Eligibility</th>\n",
       "      <th>Electric Range</th>\n",
       "      <th>Base MSRP</th>\n",
       "      <th>Legislative District</th>\n",
       "      <th>DOL Vehicle ID</th>\n",
       "      <th>Vehicle Location</th>\n",
       "      <th>Electric Utility</th>\n",
       "      <th>2020 Census Tract</th>\n",
       "    </tr>\n",
       "  </thead>\n",
       "  <tbody>\n",
       "    <tr>\n",
       "      <th>0</th>\n",
       "      <td>5YJ3E1EB2J</td>\n",
       "      <td>Suffolk</td>\n",
       "      <td>Suffolk</td>\n",
       "      <td>VA</td>\n",
       "      <td>23435.0</td>\n",
       "      <td>2018</td>\n",
       "      <td>TESLA</td>\n",
       "      <td>MODEL 3</td>\n",
       "      <td>Battery Electric Vehicle (BEV)</td>\n",
       "      <td>Clean Alternative Fuel Vehicle Eligible</td>\n",
       "      <td>215</td>\n",
       "      <td>0</td>\n",
       "      <td>NaN</td>\n",
       "      <td>476647986</td>\n",
       "      <td>POINT (-76.42443 36.8752)</td>\n",
       "      <td>NaN</td>\n",
       "      <td>5.180008e+10</td>\n",
       "    </tr>\n",
       "    <tr>\n",
       "      <th>1</th>\n",
       "      <td>5YJ3E1ECXL</td>\n",
       "      <td>Yakima</td>\n",
       "      <td>Yakima</td>\n",
       "      <td>WA</td>\n",
       "      <td>98908.0</td>\n",
       "      <td>2020</td>\n",
       "      <td>TESLA</td>\n",
       "      <td>MODEL 3</td>\n",
       "      <td>Battery Electric Vehicle (BEV)</td>\n",
       "      <td>Clean Alternative Fuel Vehicle Eligible</td>\n",
       "      <td>308</td>\n",
       "      <td>0</td>\n",
       "      <td>14.0</td>\n",
       "      <td>103490145</td>\n",
       "      <td>POINT (-120.56916 46.58514)</td>\n",
       "      <td>PACIFICORP</td>\n",
       "      <td>5.307700e+10</td>\n",
       "    </tr>\n",
       "    <tr>\n",
       "      <th>2</th>\n",
       "      <td>WA1LAAGE7M</td>\n",
       "      <td>Yakima</td>\n",
       "      <td>Yakima</td>\n",
       "      <td>WA</td>\n",
       "      <td>98908.0</td>\n",
       "      <td>2021</td>\n",
       "      <td>AUDI</td>\n",
       "      <td>E-TRON</td>\n",
       "      <td>Battery Electric Vehicle (BEV)</td>\n",
       "      <td>Clean Alternative Fuel Vehicle Eligible</td>\n",
       "      <td>222</td>\n",
       "      <td>0</td>\n",
       "      <td>14.0</td>\n",
       "      <td>144941534</td>\n",
       "      <td>POINT (-120.56916 46.58514)</td>\n",
       "      <td>PACIFICORP</td>\n",
       "      <td>5.307700e+10</td>\n",
       "    </tr>\n",
       "    <tr>\n",
       "      <th>3</th>\n",
       "      <td>5YJ3E1EA1K</td>\n",
       "      <td>Danville</td>\n",
       "      <td>Danville</td>\n",
       "      <td>VA</td>\n",
       "      <td>24541.0</td>\n",
       "      <td>2019</td>\n",
       "      <td>TESLA</td>\n",
       "      <td>MODEL 3</td>\n",
       "      <td>Battery Electric Vehicle (BEV)</td>\n",
       "      <td>Clean Alternative Fuel Vehicle Eligible</td>\n",
       "      <td>220</td>\n",
       "      <td>0</td>\n",
       "      <td>NaN</td>\n",
       "      <td>168513922</td>\n",
       "      <td>POINT (-79.4172 36.58598)</td>\n",
       "      <td>NaN</td>\n",
       "      <td>5.159000e+10</td>\n",
       "    </tr>\n",
       "    <tr>\n",
       "      <th>4</th>\n",
       "      <td>1FADP5CU9E</td>\n",
       "      <td>Norfolk</td>\n",
       "      <td>Norfolk</td>\n",
       "      <td>VA</td>\n",
       "      <td>23518.0</td>\n",
       "      <td>2014</td>\n",
       "      <td>FORD</td>\n",
       "      <td>C-MAX</td>\n",
       "      <td>Plug-in Hybrid Electric Vehicle (PHEV)</td>\n",
       "      <td>Not eligible due to low battery range</td>\n",
       "      <td>19</td>\n",
       "      <td>0</td>\n",
       "      <td>NaN</td>\n",
       "      <td>150749378</td>\n",
       "      <td>POINT (-76.21549 36.92478)</td>\n",
       "      <td>NaN</td>\n",
       "      <td>5.171001e+10</td>\n",
       "    </tr>\n",
       "  </tbody>\n",
       "</table>\n",
       "</div>"
      ],
      "text/plain": [
       "   VIN (1-10)    County      City State  Postal Code  Model Year   Make  \\\n",
       "0  5YJ3E1EB2J   Suffolk   Suffolk    VA      23435.0        2018  TESLA   \n",
       "1  5YJ3E1ECXL    Yakima    Yakima    WA      98908.0        2020  TESLA   \n",
       "2  WA1LAAGE7M    Yakima    Yakima    WA      98908.0        2021   AUDI   \n",
       "3  5YJ3E1EA1K  Danville  Danville    VA      24541.0        2019  TESLA   \n",
       "4  1FADP5CU9E   Norfolk   Norfolk    VA      23518.0        2014   FORD   \n",
       "\n",
       "     Model                   Electric Vehicle Type  \\\n",
       "0  MODEL 3          Battery Electric Vehicle (BEV)   \n",
       "1  MODEL 3          Battery Electric Vehicle (BEV)   \n",
       "2   E-TRON          Battery Electric Vehicle (BEV)   \n",
       "3  MODEL 3          Battery Electric Vehicle (BEV)   \n",
       "4    C-MAX  Plug-in Hybrid Electric Vehicle (PHEV)   \n",
       "\n",
       "  Clean Alternative Fuel Vehicle (CAFV) Eligibility  Electric Range  \\\n",
       "0           Clean Alternative Fuel Vehicle Eligible             215   \n",
       "1           Clean Alternative Fuel Vehicle Eligible             308   \n",
       "2           Clean Alternative Fuel Vehicle Eligible             222   \n",
       "3           Clean Alternative Fuel Vehicle Eligible             220   \n",
       "4             Not eligible due to low battery range              19   \n",
       "\n",
       "   Base MSRP  Legislative District  DOL Vehicle ID  \\\n",
       "0          0                   NaN       476647986   \n",
       "1          0                  14.0       103490145   \n",
       "2          0                  14.0       144941534   \n",
       "3          0                   NaN       168513922   \n",
       "4          0                   NaN       150749378   \n",
       "\n",
       "              Vehicle Location Electric Utility  2020 Census Tract  \n",
       "0    POINT (-76.42443 36.8752)              NaN       5.180008e+10  \n",
       "1  POINT (-120.56916 46.58514)       PACIFICORP       5.307700e+10  \n",
       "2  POINT (-120.56916 46.58514)       PACIFICORP       5.307700e+10  \n",
       "3    POINT (-79.4172 36.58598)              NaN       5.159000e+10  \n",
       "4   POINT (-76.21549 36.92478)              NaN       5.171001e+10  "
      ]
     },
     "execution_count": 80,
     "metadata": {},
     "output_type": "execute_result"
    }
   ],
   "source": [
    "import pandas as pd\n",
    "import numpy as np\n",
    "import matplotlib.pyplot as plt\n",
    "\n",
    "from sklearn.preprocessing import LabelEncoder, OrdinalEncoder\n",
    "from sklearn.model_selection import train_test_split\n",
    "from sklearn.neighbors import KNeighborsClassifier\n",
    "from sklearn.ensemble import RandomForestClassifier\n",
    "from sklearn.metrics import confusion_matrix, accuracy_score, classification_report\n",
    "\n",
    "\n",
    "ev = pd.read_csv('Electric_Vehicle_Population_Data.csv')\n",
    "ev.head()\n"
   ]
  },
  {
   "cell_type": "markdown",
   "id": "ed99cabe",
   "metadata": {},
   "source": [
    "## Data Cleaning"
   ]
  },
  {
   "cell_type": "markdown",
   "id": "17be40db",
   "metadata": {},
   "source": [
    "### Filtering out columns"
   ]
  },
  {
   "cell_type": "code",
   "execution_count": 81,
   "id": "1f64288e",
   "metadata": {},
   "outputs": [
    {
     "data": {
      "text/plain": [
       "Index(['VIN (1-10)', 'County', 'City', 'State', 'Postal Code', 'Model Year',\n",
       "       'Make', 'Model', 'Electric Vehicle Type',\n",
       "       'Clean Alternative Fuel Vehicle (CAFV) Eligibility', 'Electric Range',\n",
       "       'Base MSRP', 'Legislative District', 'DOL Vehicle ID',\n",
       "       'Vehicle Location', 'Electric Utility', '2020 Census Tract'],\n",
       "      dtype='object')"
      ]
     },
     "execution_count": 81,
     "metadata": {},
     "output_type": "execute_result"
    }
   ],
   "source": [
    "ev.columns"
   ]
  },
  {
   "cell_type": "code",
   "execution_count": 82,
   "id": "2f94e488",
   "metadata": {},
   "outputs": [
    {
     "data": {
      "text/plain": [
       "Index(['Model Year', 'Make', 'Model', 'Electric Vehicle Type',\n",
       "       'Clean Alternative Fuel Vehicle (CAFV) Eligibility', 'Electric Range',\n",
       "       'Base MSRP'],\n",
       "      dtype='object')"
      ]
     },
     "execution_count": 82,
     "metadata": {},
     "output_type": "execute_result"
    }
   ],
   "source": [
    "ev_subset = ev[['Model Year','Make', 'Model', 'Electric Vehicle Type','Clean Alternative Fuel Vehicle (CAFV) Eligibility', 'Electric Range','Base MSRP']]\n",
    "ev_subset.columns"
   ]
  },
  {
   "cell_type": "markdown",
   "id": "2bb7e930",
   "metadata": {},
   "source": [
    "### Checking for zero and none values"
   ]
  },
  {
   "cell_type": "code",
   "execution_count": 83,
   "id": "18290336",
   "metadata": {},
   "outputs": [
    {
     "data": {
      "text/plain": [
       "Model Year                                             0\n",
       "Make                                                   0\n",
       "Model                                                104\n",
       "Electric Vehicle Type                                  0\n",
       "Clean Alternative Fuel Vehicle (CAFV) Eligibility      0\n",
       "Electric Range                                         0\n",
       "Base MSRP                                              0\n",
       "dtype: int64"
      ]
     },
     "execution_count": 83,
     "metadata": {},
     "output_type": "execute_result"
    }
   ],
   "source": [
    "ev_subset.isna().sum()"
   ]
  },
  {
   "cell_type": "code",
   "execution_count": 84,
   "id": "4cc8f1d4",
   "metadata": {},
   "outputs": [
    {
     "data": {
      "text/html": [
       "<div>\n",
       "<style scoped>\n",
       "    .dataframe tbody tr th:only-of-type {\n",
       "        vertical-align: middle;\n",
       "    }\n",
       "\n",
       "    .dataframe tbody tr th {\n",
       "        vertical-align: top;\n",
       "    }\n",
       "\n",
       "    .dataframe thead th {\n",
       "        text-align: right;\n",
       "    }\n",
       "</style>\n",
       "<table border=\"1\" class=\"dataframe\">\n",
       "  <thead>\n",
       "    <tr style=\"text-align: right;\">\n",
       "      <th></th>\n",
       "      <th>Model Year</th>\n",
       "      <th>Make</th>\n",
       "      <th>Model</th>\n",
       "      <th>Electric Vehicle Type</th>\n",
       "      <th>Clean Alternative Fuel Vehicle (CAFV) Eligibility</th>\n",
       "      <th>Electric Range</th>\n",
       "      <th>Base MSRP</th>\n",
       "    </tr>\n",
       "  </thead>\n",
       "  <tbody>\n",
       "    <tr>\n",
       "      <th>400</th>\n",
       "      <td>2023</td>\n",
       "      <td>VOLVO</td>\n",
       "      <td>NaN</td>\n",
       "      <td>Battery Electric Vehicle (BEV)</td>\n",
       "      <td>Eligibility unknown as battery range has not b...</td>\n",
       "      <td>0</td>\n",
       "      <td>0</td>\n",
       "    </tr>\n",
       "    <tr>\n",
       "      <th>524</th>\n",
       "      <td>2023</td>\n",
       "      <td>VOLVO</td>\n",
       "      <td>NaN</td>\n",
       "      <td>Battery Electric Vehicle (BEV)</td>\n",
       "      <td>Eligibility unknown as battery range has not b...</td>\n",
       "      <td>0</td>\n",
       "      <td>0</td>\n",
       "    </tr>\n",
       "    <tr>\n",
       "      <th>1052</th>\n",
       "      <td>2023</td>\n",
       "      <td>VOLVO</td>\n",
       "      <td>NaN</td>\n",
       "      <td>Battery Electric Vehicle (BEV)</td>\n",
       "      <td>Eligibility unknown as battery range has not b...</td>\n",
       "      <td>0</td>\n",
       "      <td>0</td>\n",
       "    </tr>\n",
       "    <tr>\n",
       "      <th>1518</th>\n",
       "      <td>2023</td>\n",
       "      <td>VOLVO</td>\n",
       "      <td>NaN</td>\n",
       "      <td>Battery Electric Vehicle (BEV)</td>\n",
       "      <td>Eligibility unknown as battery range has not b...</td>\n",
       "      <td>0</td>\n",
       "      <td>0</td>\n",
       "    </tr>\n",
       "    <tr>\n",
       "      <th>2049</th>\n",
       "      <td>2023</td>\n",
       "      <td>VOLVO</td>\n",
       "      <td>NaN</td>\n",
       "      <td>Battery Electric Vehicle (BEV)</td>\n",
       "      <td>Eligibility unknown as battery range has not b...</td>\n",
       "      <td>0</td>\n",
       "      <td>0</td>\n",
       "    </tr>\n",
       "    <tr>\n",
       "      <th>...</th>\n",
       "      <td>...</td>\n",
       "      <td>...</td>\n",
       "      <td>...</td>\n",
       "      <td>...</td>\n",
       "      <td>...</td>\n",
       "      <td>...</td>\n",
       "      <td>...</td>\n",
       "    </tr>\n",
       "    <tr>\n",
       "      <th>117805</th>\n",
       "      <td>2023</td>\n",
       "      <td>VOLVO</td>\n",
       "      <td>NaN</td>\n",
       "      <td>Battery Electric Vehicle (BEV)</td>\n",
       "      <td>Eligibility unknown as battery range has not b...</td>\n",
       "      <td>0</td>\n",
       "      <td>0</td>\n",
       "    </tr>\n",
       "    <tr>\n",
       "      <th>118038</th>\n",
       "      <td>2023</td>\n",
       "      <td>VOLVO</td>\n",
       "      <td>NaN</td>\n",
       "      <td>Battery Electric Vehicle (BEV)</td>\n",
       "      <td>Eligibility unknown as battery range has not b...</td>\n",
       "      <td>0</td>\n",
       "      <td>0</td>\n",
       "    </tr>\n",
       "    <tr>\n",
       "      <th>119202</th>\n",
       "      <td>2023</td>\n",
       "      <td>VOLVO</td>\n",
       "      <td>NaN</td>\n",
       "      <td>Battery Electric Vehicle (BEV)</td>\n",
       "      <td>Eligibility unknown as battery range has not b...</td>\n",
       "      <td>0</td>\n",
       "      <td>0</td>\n",
       "    </tr>\n",
       "    <tr>\n",
       "      <th>120160</th>\n",
       "      <td>2023</td>\n",
       "      <td>VOLVO</td>\n",
       "      <td>NaN</td>\n",
       "      <td>Battery Electric Vehicle (BEV)</td>\n",
       "      <td>Eligibility unknown as battery range has not b...</td>\n",
       "      <td>0</td>\n",
       "      <td>0</td>\n",
       "    </tr>\n",
       "    <tr>\n",
       "      <th>121246</th>\n",
       "      <td>2023</td>\n",
       "      <td>VOLVO</td>\n",
       "      <td>NaN</td>\n",
       "      <td>Battery Electric Vehicle (BEV)</td>\n",
       "      <td>Eligibility unknown as battery range has not b...</td>\n",
       "      <td>0</td>\n",
       "      <td>0</td>\n",
       "    </tr>\n",
       "  </tbody>\n",
       "</table>\n",
       "<p>104 rows × 7 columns</p>\n",
       "</div>"
      ],
      "text/plain": [
       "        Model Year   Make Model           Electric Vehicle Type  \\\n",
       "400           2023  VOLVO   NaN  Battery Electric Vehicle (BEV)   \n",
       "524           2023  VOLVO   NaN  Battery Electric Vehicle (BEV)   \n",
       "1052          2023  VOLVO   NaN  Battery Electric Vehicle (BEV)   \n",
       "1518          2023  VOLVO   NaN  Battery Electric Vehicle (BEV)   \n",
       "2049          2023  VOLVO   NaN  Battery Electric Vehicle (BEV)   \n",
       "...            ...    ...   ...                             ...   \n",
       "117805        2023  VOLVO   NaN  Battery Electric Vehicle (BEV)   \n",
       "118038        2023  VOLVO   NaN  Battery Electric Vehicle (BEV)   \n",
       "119202        2023  VOLVO   NaN  Battery Electric Vehicle (BEV)   \n",
       "120160        2023  VOLVO   NaN  Battery Electric Vehicle (BEV)   \n",
       "121246        2023  VOLVO   NaN  Battery Electric Vehicle (BEV)   \n",
       "\n",
       "        Clean Alternative Fuel Vehicle (CAFV) Eligibility  Electric Range  \\\n",
       "400     Eligibility unknown as battery range has not b...               0   \n",
       "524     Eligibility unknown as battery range has not b...               0   \n",
       "1052    Eligibility unknown as battery range has not b...               0   \n",
       "1518    Eligibility unknown as battery range has not b...               0   \n",
       "2049    Eligibility unknown as battery range has not b...               0   \n",
       "...                                                   ...             ...   \n",
       "117805  Eligibility unknown as battery range has not b...               0   \n",
       "118038  Eligibility unknown as battery range has not b...               0   \n",
       "119202  Eligibility unknown as battery range has not b...               0   \n",
       "120160  Eligibility unknown as battery range has not b...               0   \n",
       "121246  Eligibility unknown as battery range has not b...               0   \n",
       "\n",
       "        Base MSRP  \n",
       "400             0  \n",
       "524             0  \n",
       "1052            0  \n",
       "1518            0  \n",
       "2049            0  \n",
       "...           ...  \n",
       "117805          0  \n",
       "118038          0  \n",
       "119202          0  \n",
       "120160          0  \n",
       "121246          0  \n",
       "\n",
       "[104 rows x 7 columns]"
      ]
     },
     "execution_count": 84,
     "metadata": {},
     "output_type": "execute_result"
    }
   ],
   "source": [
    "emp = ev_subset[ev_subset['Model'].isna()]\n",
    "emp"
   ]
  },
  {
   "cell_type": "code",
   "execution_count": 85,
   "id": "1c68d54e",
   "metadata": {},
   "outputs": [
    {
     "data": {
      "text/plain": [
       "VOLVO    104\n",
       "Name: Make, dtype: int64"
      ]
     },
     "execution_count": 85,
     "metadata": {},
     "output_type": "execute_result"
    }
   ],
   "source": [
    "emp['Make'].value_counts()"
   ]
  },
  {
   "cell_type": "code",
   "execution_count": 86,
   "id": "a8796966",
   "metadata": {},
   "outputs": [
    {
     "data": {
      "text/plain": [
       "2023    104\n",
       "Name: Model Year, dtype: int64"
      ]
     },
     "execution_count": 86,
     "metadata": {},
     "output_type": "execute_result"
    }
   ],
   "source": [
    "emp['Model Year'].value_counts()"
   ]
  },
  {
   "cell_type": "code",
   "execution_count": 87,
   "id": "5b38d36b",
   "metadata": {},
   "outputs": [
    {
     "data": {
      "text/plain": [
       "XC90    814\n",
       "XC60    696\n",
       "XC40    488\n",
       "C40     210\n",
       "S60      80\n",
       "S90      25\n",
       "V60      12\n",
       "Name: Model, dtype: int64"
      ]
     },
     "execution_count": 87,
     "metadata": {},
     "output_type": "execute_result"
    }
   ],
   "source": [
    "volvo = ev_subset[ev_subset['Make'] == 'VOLVO']\n",
    "volvo['Model'].value_counts()"
   ]
  },
  {
   "cell_type": "code",
   "execution_count": 88,
   "id": "91005ee5",
   "metadata": {},
   "outputs": [
    {
     "name": "stderr",
     "output_type": "stream",
     "text": [
      "C:\\Users\\MARINE\\AppData\\Local\\Temp\\ipykernel_18444\\147016190.py:1: SettingWithCopyWarning: \n",
      "A value is trying to be set on a copy of a slice from a DataFrame\n",
      "\n",
      "See the caveats in the documentation: https://pandas.pydata.org/pandas-docs/stable/user_guide/indexing.html#returning-a-view-versus-a-copy\n",
      "  ev_subset.fillna('XC90', inplace=True)\n"
     ]
    }
   ],
   "source": [
    "ev_subset.fillna('XC90', inplace=True)"
   ]
  },
  {
   "cell_type": "code",
   "execution_count": 89,
   "id": "5f0793ea",
   "metadata": {},
   "outputs": [
    {
     "data": {
      "text/plain": [
       "Model Year                                           0\n",
       "Make                                                 0\n",
       "Model                                                0\n",
       "Electric Vehicle Type                                0\n",
       "Clean Alternative Fuel Vehicle (CAFV) Eligibility    0\n",
       "Electric Range                                       0\n",
       "Base MSRP                                            0\n",
       "dtype: int64"
      ]
     },
     "execution_count": 89,
     "metadata": {},
     "output_type": "execute_result"
    }
   ],
   "source": [
    "ev_subset.isna().sum()"
   ]
  },
  {
   "cell_type": "markdown",
   "id": "eef30fc6",
   "metadata": {},
   "source": [
    "#### Zeroes at Base MSRP"
   ]
  },
  {
   "cell_type": "code",
   "execution_count": 90,
   "id": "de65d015",
   "metadata": {},
   "outputs": [
    {
     "data": {
      "text/plain": [
       "0         118511\n",
       "69900       1454\n",
       "31950        406\n",
       "52900        214\n",
       "32250        156\n",
       "54950        137\n",
       "59900        128\n",
       "39995        119\n",
       "44100         98\n",
       "36900         97\n",
       "64950         87\n",
       "33950         81\n",
       "45600         76\n",
       "52650         65\n",
       "34995         62\n",
       "36800         50\n",
       "55700         47\n",
       "53400         32\n",
       "98950         22\n",
       "110950        22\n",
       "81100         19\n",
       "90700         18\n",
       "102000        17\n",
       "75095         16\n",
       "184400        12\n",
       "43700         11\n",
       "109000         7\n",
       "89100          6\n",
       "91250          4\n",
       "32995          3\n",
       "845000         1\n",
       "Name: Base MSRP, dtype: int64"
      ]
     },
     "execution_count": 90,
     "metadata": {},
     "output_type": "execute_result"
    }
   ],
   "source": [
    "ev_subset['Base MSRP'].value_counts()"
   ]
  },
  {
   "cell_type": "code",
   "execution_count": 91,
   "id": "5a9a5bb5",
   "metadata": {},
   "outputs": [
    {
     "data": {
      "text/plain": [
       "1627.059797668432"
      ]
     },
     "execution_count": 91,
     "metadata": {},
     "output_type": "execute_result"
    }
   ],
   "source": [
    "ev_subset['Base MSRP'].mean()"
   ]
  },
  {
   "cell_type": "code",
   "execution_count": 92,
   "id": "3de316c2",
   "metadata": {},
   "outputs": [
    {
     "data": {
      "text/html": [
       "<div>\n",
       "<style scoped>\n",
       "    .dataframe tbody tr th:only-of-type {\n",
       "        vertical-align: middle;\n",
       "    }\n",
       "\n",
       "    .dataframe tbody tr th {\n",
       "        vertical-align: top;\n",
       "    }\n",
       "\n",
       "    .dataframe thead th {\n",
       "        text-align: right;\n",
       "    }\n",
       "</style>\n",
       "<table border=\"1\" class=\"dataframe\">\n",
       "  <thead>\n",
       "    <tr style=\"text-align: right;\">\n",
       "      <th></th>\n",
       "      <th>Base MSRP</th>\n",
       "    </tr>\n",
       "  </thead>\n",
       "  <tbody>\n",
       "    <tr>\n",
       "      <th>0</th>\n",
       "      <td>0</td>\n",
       "    </tr>\n",
       "    <tr>\n",
       "      <th>1</th>\n",
       "      <td>0</td>\n",
       "    </tr>\n",
       "    <tr>\n",
       "      <th>2</th>\n",
       "      <td>0</td>\n",
       "    </tr>\n",
       "    <tr>\n",
       "      <th>3</th>\n",
       "      <td>0</td>\n",
       "    </tr>\n",
       "    <tr>\n",
       "      <th>4</th>\n",
       "      <td>0</td>\n",
       "    </tr>\n",
       "  </tbody>\n",
       "</table>\n",
       "</div>"
      ],
      "text/plain": [
       "   Base MSRP\n",
       "0          0\n",
       "1          0\n",
       "2          0\n",
       "3          0\n",
       "4          0"
      ]
     },
     "execution_count": 92,
     "metadata": {},
     "output_type": "execute_result"
    }
   ],
   "source": [
    "ev_subset_base = pd.DataFrame(ev_subset['Base MSRP'])\n",
    "ev_subset_base.head()"
   ]
  },
  {
   "cell_type": "code",
   "execution_count": 93,
   "id": "589a70ec",
   "metadata": {},
   "outputs": [
    {
     "data": {
      "text/plain": [
       "Base MSRP\n",
       "69900        1454\n",
       "31950         406\n",
       "52900         214\n",
       "32250         156\n",
       "54950         137\n",
       "59900         128\n",
       "39995         119\n",
       "44100          98\n",
       "36900          97\n",
       "64950          87\n",
       "33950          81\n",
       "45600          76\n",
       "52650          65\n",
       "34995          62\n",
       "36800          50\n",
       "55700          47\n",
       "53400          32\n",
       "98950          22\n",
       "110950         22\n",
       "81100          19\n",
       "90700          18\n",
       "102000         17\n",
       "75095          16\n",
       "184400         12\n",
       "43700          11\n",
       "109000          7\n",
       "89100           6\n",
       "91250           4\n",
       "32995           3\n",
       "845000          1\n",
       "dtype: int64"
      ]
     },
     "execution_count": 93,
     "metadata": {},
     "output_type": "execute_result"
    }
   ],
   "source": [
    "ev_subset_base.drop(ev_subset_base[ev_subset_base['Base MSRP'] == 0].index, inplace=True)\n",
    "ev_subset_base.value_counts()"
   ]
  },
  {
   "cell_type": "code",
   "execution_count": 94,
   "id": "e8b33343",
   "metadata": {},
   "outputs": [
    {
     "data": {
      "text/plain": [
       "Base MSRP    57244.159215\n",
       "dtype: float64"
      ]
     },
     "execution_count": 94,
     "metadata": {},
     "output_type": "execute_result"
    }
   ],
   "source": [
    "ev_subset_base.mean()"
   ]
  },
  {
   "cell_type": "code",
   "execution_count": 95,
   "id": "0f4b074d",
   "metadata": {},
   "outputs": [
    {
     "name": "stderr",
     "output_type": "stream",
     "text": [
      "C:\\Users\\MARINE\\AppData\\Local\\Temp\\ipykernel_18444\\213189466.py:1: SettingWithCopyWarning: \n",
      "A value is trying to be set on a copy of a slice from a DataFrame.\n",
      "Try using .loc[row_indexer,col_indexer] = value instead\n",
      "\n",
      "See the caveats in the documentation: https://pandas.pydata.org/pandas-docs/stable/user_guide/indexing.html#returning-a-view-versus-a-copy\n",
      "  ev_subset['Base MSRP'] = ev_subset['Base MSRP'].replace(0, int(ev_subset_base.mean()))\n"
     ]
    },
    {
     "data": {
      "text/plain": [
       "57244     118511\n",
       "69900       1454\n",
       "31950        406\n",
       "52900        214\n",
       "32250        156\n",
       "54950        137\n",
       "59900        128\n",
       "39995        119\n",
       "44100         98\n",
       "36900         97\n",
       "64950         87\n",
       "33950         81\n",
       "45600         76\n",
       "52650         65\n",
       "34995         62\n",
       "36800         50\n",
       "55700         47\n",
       "53400         32\n",
       "98950         22\n",
       "110950        22\n",
       "81100         19\n",
       "90700         18\n",
       "102000        17\n",
       "75095         16\n",
       "184400        12\n",
       "43700         11\n",
       "109000         7\n",
       "89100          6\n",
       "91250          4\n",
       "32995          3\n",
       "845000         1\n",
       "Name: Base MSRP, dtype: int64"
      ]
     },
     "execution_count": 95,
     "metadata": {},
     "output_type": "execute_result"
    }
   ],
   "source": [
    "ev_subset['Base MSRP'] = ev_subset['Base MSRP'].replace(0, int(ev_subset_base.mean()))\n",
    "ev_subset['Base MSRP'].value_counts()"
   ]
  },
  {
   "cell_type": "markdown",
   "id": "e1e28aa9",
   "metadata": {},
   "source": [
    "#### Confirming all 0s in Electric Range are vehicles whose Eligibility unknown as battery range has not been researched"
   ]
  },
  {
   "cell_type": "code",
   "execution_count": 96,
   "id": "f7e8b635",
   "metadata": {},
   "outputs": [
    {
     "data": {
      "text/plain": [
       "47417"
      ]
     },
     "execution_count": 96,
     "metadata": {},
     "output_type": "execute_result"
    }
   ],
   "source": [
    "ev_subset[ev_subset['Clean Alternative Fuel Vehicle (CAFV) Eligibility'] == 'Eligibility unknown as battery range has not been researched'].count()[0]"
   ]
  },
  {
   "cell_type": "code",
   "execution_count": 97,
   "id": "bf2c3191",
   "metadata": {},
   "outputs": [
    {
     "data": {
      "text/plain": [
       "0    47417\n",
       "Name: Electric Range, dtype: int64"
      ]
     },
     "execution_count": 97,
     "metadata": {},
     "output_type": "execute_result"
    }
   ],
   "source": [
    "el_un = ev[ev['Clean Alternative Fuel Vehicle (CAFV) Eligibility'] == 'Eligibility unknown as battery range has not been researched']\n",
    "el_un['Electric Range'].value_counts()"
   ]
  },
  {
   "cell_type": "markdown",
   "id": "c9f5bbef",
   "metadata": {},
   "source": [
    "### Outliers"
   ]
  },
  {
   "cell_type": "code",
   "execution_count": 98,
   "id": "86586554",
   "metadata": {},
   "outputs": [
    {
     "data": {
      "text/plain": [
       "72"
      ]
     },
     "execution_count": 98,
     "metadata": {},
     "output_type": "execute_result"
    }
   ],
   "source": [
    "ev_subset[ev_subset['Electric Range'] > 330].count()[0]"
   ]
  },
  {
   "cell_type": "code",
   "execution_count": 99,
   "id": "13451eac",
   "metadata": {},
   "outputs": [
    {
     "data": {
      "text/plain": [
       "55318"
      ]
     },
     "execution_count": 99,
     "metadata": {},
     "output_type": "execute_result"
    }
   ],
   "source": [
    "ev_subset[ev_subset['Electric Range'] < 20].count()[0]"
   ]
  },
  {
   "cell_type": "markdown",
   "id": "6bed0196",
   "metadata": {},
   "source": [
    "#### Replacing outliers in the Electric Range with the lower and upper limits"
   ]
  },
  {
   "cell_type": "code",
   "execution_count": 100,
   "id": "0be606fc",
   "metadata": {},
   "outputs": [
    {
     "name": "stderr",
     "output_type": "stream",
     "text": [
      "C:\\Users\\MARINE\\AppData\\Local\\Temp\\ipykernel_18444\\1000744698.py:2: SettingWithCopyWarning: \n",
      "A value is trying to be set on a copy of a slice from a DataFrame.\n",
      "Try using .loc[row_indexer,col_indexer] = value instead\n",
      "\n",
      "See the caveats in the documentation: https://pandas.pydata.org/pandas-docs/stable/user_guide/indexing.html#returning-a-view-versus-a-copy\n",
      "  data[column] = data[column].clip(lower=min_value, upper=max_value)\n"
     ]
    },
    {
     "data": {
      "text/plain": [
       "0"
      ]
     },
     "execution_count": 100,
     "metadata": {},
     "output_type": "execute_result"
    }
   ],
   "source": [
    "def replace_outliers(data, column, min_value, max_value):\n",
    "    data[column] = data[column].clip(lower=min_value, upper=max_value)\n",
    "    return data\n",
    "\n",
    "min_value = 0\n",
    "max_value = 330\n",
    "\n",
    "ev_subset = replace_outliers(ev_subset, 'Electric Range', min_value, max_value)\n",
    "ev_subset[ev_subset['Electric Range'] > 330].count()[0]"
   ]
  },
  {
   "cell_type": "code",
   "execution_count": 101,
   "id": "7cf9bcb0",
   "metadata": {},
   "outputs": [
    {
     "data": {
      "text/plain": [
       "0"
      ]
     },
     "execution_count": 101,
     "metadata": {},
     "output_type": "execute_result"
    }
   ],
   "source": [
    "ev_subset[ev_subset['Electric Range'] < 0].count()[0]"
   ]
  },
  {
   "cell_type": "code",
   "execution_count": 102,
   "id": "6fb00058",
   "metadata": {},
   "outputs": [
    {
     "data": {
      "text/html": [
       "<div>\n",
       "<style scoped>\n",
       "    .dataframe tbody tr th:only-of-type {\n",
       "        vertical-align: middle;\n",
       "    }\n",
       "\n",
       "    .dataframe tbody tr th {\n",
       "        vertical-align: top;\n",
       "    }\n",
       "\n",
       "    .dataframe thead th {\n",
       "        text-align: right;\n",
       "    }\n",
       "</style>\n",
       "<table border=\"1\" class=\"dataframe\">\n",
       "  <thead>\n",
       "    <tr style=\"text-align: right;\">\n",
       "      <th></th>\n",
       "      <th>Model Year</th>\n",
       "      <th>Make</th>\n",
       "      <th>Model</th>\n",
       "      <th>Electric Vehicle Type</th>\n",
       "      <th>Clean Alternative Fuel Vehicle (CAFV) Eligibility</th>\n",
       "      <th>Electric Range</th>\n",
       "      <th>Base MSRP</th>\n",
       "    </tr>\n",
       "  </thead>\n",
       "  <tbody>\n",
       "    <tr>\n",
       "      <th>0</th>\n",
       "      <td>2018</td>\n",
       "      <td>TESLA</td>\n",
       "      <td>MODEL 3</td>\n",
       "      <td>Battery Electric Vehicle (BEV)</td>\n",
       "      <td>Clean Alternative Fuel Vehicle Eligible</td>\n",
       "      <td>215</td>\n",
       "      <td>57244</td>\n",
       "    </tr>\n",
       "    <tr>\n",
       "      <th>1</th>\n",
       "      <td>2020</td>\n",
       "      <td>TESLA</td>\n",
       "      <td>MODEL 3</td>\n",
       "      <td>Battery Electric Vehicle (BEV)</td>\n",
       "      <td>Clean Alternative Fuel Vehicle Eligible</td>\n",
       "      <td>308</td>\n",
       "      <td>57244</td>\n",
       "    </tr>\n",
       "    <tr>\n",
       "      <th>2</th>\n",
       "      <td>2021</td>\n",
       "      <td>AUDI</td>\n",
       "      <td>E-TRON</td>\n",
       "      <td>Battery Electric Vehicle (BEV)</td>\n",
       "      <td>Clean Alternative Fuel Vehicle Eligible</td>\n",
       "      <td>222</td>\n",
       "      <td>57244</td>\n",
       "    </tr>\n",
       "    <tr>\n",
       "      <th>3</th>\n",
       "      <td>2019</td>\n",
       "      <td>TESLA</td>\n",
       "      <td>MODEL 3</td>\n",
       "      <td>Battery Electric Vehicle (BEV)</td>\n",
       "      <td>Clean Alternative Fuel Vehicle Eligible</td>\n",
       "      <td>220</td>\n",
       "      <td>57244</td>\n",
       "    </tr>\n",
       "    <tr>\n",
       "      <th>4</th>\n",
       "      <td>2014</td>\n",
       "      <td>FORD</td>\n",
       "      <td>C-MAX</td>\n",
       "      <td>Plug-in Hybrid Electric Vehicle (PHEV)</td>\n",
       "      <td>Not eligible due to low battery range</td>\n",
       "      <td>19</td>\n",
       "      <td>57244</td>\n",
       "    </tr>\n",
       "  </tbody>\n",
       "</table>\n",
       "</div>"
      ],
      "text/plain": [
       "   Model Year   Make    Model                   Electric Vehicle Type  \\\n",
       "0        2018  TESLA  MODEL 3          Battery Electric Vehicle (BEV)   \n",
       "1        2020  TESLA  MODEL 3          Battery Electric Vehicle (BEV)   \n",
       "2        2021   AUDI   E-TRON          Battery Electric Vehicle (BEV)   \n",
       "3        2019  TESLA  MODEL 3          Battery Electric Vehicle (BEV)   \n",
       "4        2014   FORD    C-MAX  Plug-in Hybrid Electric Vehicle (PHEV)   \n",
       "\n",
       "  Clean Alternative Fuel Vehicle (CAFV) Eligibility  Electric Range  Base MSRP  \n",
       "0           Clean Alternative Fuel Vehicle Eligible             215      57244  \n",
       "1           Clean Alternative Fuel Vehicle Eligible             308      57244  \n",
       "2           Clean Alternative Fuel Vehicle Eligible             222      57244  \n",
       "3           Clean Alternative Fuel Vehicle Eligible             220      57244  \n",
       "4             Not eligible due to low battery range              19      57244  "
      ]
     },
     "execution_count": 102,
     "metadata": {},
     "output_type": "execute_result"
    }
   ],
   "source": [
    "ev_subset.head()"
   ]
  },
  {
   "cell_type": "markdown",
   "id": "259349d3",
   "metadata": {},
   "source": [
    "### Encoding"
   ]
  },
  {
   "cell_type": "code",
   "execution_count": 103,
   "id": "24f99761",
   "metadata": {},
   "outputs": [
    {
     "data": {
      "text/plain": [
       "LabelEncoder()"
      ]
     },
     "execution_count": 103,
     "metadata": {},
     "output_type": "execute_result"
    }
   ],
   "source": [
    "lb = LabelEncoder()\n",
    "lb"
   ]
  },
  {
   "cell_type": "code",
   "execution_count": 104,
   "id": "737a15e7",
   "metadata": {},
   "outputs": [
    {
     "name": "stderr",
     "output_type": "stream",
     "text": [
      "C:\\Users\\MARINE\\AppData\\Local\\Temp\\ipykernel_18444\\3946786639.py:3: SettingWithCopyWarning: \n",
      "A value is trying to be set on a copy of a slice from a DataFrame.\n",
      "Try using .loc[row_indexer,col_indexer] = value instead\n",
      "\n",
      "See the caveats in the documentation: https://pandas.pydata.org/pandas-docs/stable/user_guide/indexing.html#returning-a-view-versus-a-copy\n",
      "  ev_subset[column] = lb.fit_transform(ev_subset[column])\n"
     ]
    },
    {
     "data": {
      "text/html": [
       "<div>\n",
       "<style scoped>\n",
       "    .dataframe tbody tr th:only-of-type {\n",
       "        vertical-align: middle;\n",
       "    }\n",
       "\n",
       "    .dataframe tbody tr th {\n",
       "        vertical-align: top;\n",
       "    }\n",
       "\n",
       "    .dataframe thead th {\n",
       "        text-align: right;\n",
       "    }\n",
       "</style>\n",
       "<table border=\"1\" class=\"dataframe\">\n",
       "  <thead>\n",
       "    <tr style=\"text-align: right;\">\n",
       "      <th></th>\n",
       "      <th>Model Year</th>\n",
       "      <th>Make</th>\n",
       "      <th>Model</th>\n",
       "      <th>Electric Vehicle Type</th>\n",
       "      <th>Clean Alternative Fuel Vehicle (CAFV) Eligibility</th>\n",
       "      <th>Electric Range</th>\n",
       "      <th>Base MSRP</th>\n",
       "    </tr>\n",
       "  </thead>\n",
       "  <tbody>\n",
       "    <tr>\n",
       "      <th>0</th>\n",
       "      <td>2018</td>\n",
       "      <td>29</td>\n",
       "      <td>68</td>\n",
       "      <td>Battery Electric Vehicle (BEV)</td>\n",
       "      <td>0</td>\n",
       "      <td>215</td>\n",
       "      <td>57244</td>\n",
       "    </tr>\n",
       "    <tr>\n",
       "      <th>1</th>\n",
       "      <td>2020</td>\n",
       "      <td>29</td>\n",
       "      <td>68</td>\n",
       "      <td>Battery Electric Vehicle (BEV)</td>\n",
       "      <td>0</td>\n",
       "      <td>308</td>\n",
       "      <td>57244</td>\n",
       "    </tr>\n",
       "    <tr>\n",
       "      <th>2</th>\n",
       "      <td>2021</td>\n",
       "      <td>0</td>\n",
       "      <td>29</td>\n",
       "      <td>Battery Electric Vehicle (BEV)</td>\n",
       "      <td>0</td>\n",
       "      <td>222</td>\n",
       "      <td>57244</td>\n",
       "    </tr>\n",
       "    <tr>\n",
       "      <th>3</th>\n",
       "      <td>2019</td>\n",
       "      <td>29</td>\n",
       "      <td>68</td>\n",
       "      <td>Battery Electric Vehicle (BEV)</td>\n",
       "      <td>0</td>\n",
       "      <td>220</td>\n",
       "      <td>57244</td>\n",
       "    </tr>\n",
       "    <tr>\n",
       "      <th>4</th>\n",
       "      <td>2014</td>\n",
       "      <td>9</td>\n",
       "      <td>19</td>\n",
       "      <td>Plug-in Hybrid Electric Vehicle (PHEV)</td>\n",
       "      <td>2</td>\n",
       "      <td>19</td>\n",
       "      <td>57244</td>\n",
       "    </tr>\n",
       "  </tbody>\n",
       "</table>\n",
       "</div>"
      ],
      "text/plain": [
       "   Model Year  Make  Model                   Electric Vehicle Type  \\\n",
       "0        2018    29     68          Battery Electric Vehicle (BEV)   \n",
       "1        2020    29     68          Battery Electric Vehicle (BEV)   \n",
       "2        2021     0     29          Battery Electric Vehicle (BEV)   \n",
       "3        2019    29     68          Battery Electric Vehicle (BEV)   \n",
       "4        2014     9     19  Plug-in Hybrid Electric Vehicle (PHEV)   \n",
       "\n",
       "   Clean Alternative Fuel Vehicle (CAFV) Eligibility  Electric Range  \\\n",
       "0                                                  0             215   \n",
       "1                                                  0             308   \n",
       "2                                                  0             222   \n",
       "3                                                  0             220   \n",
       "4                                                  2              19   \n",
       "\n",
       "   Base MSRP  \n",
       "0      57244  \n",
       "1      57244  \n",
       "2      57244  \n",
       "3      57244  \n",
       "4      57244  "
      ]
     },
     "execution_count": 104,
     "metadata": {},
     "output_type": "execute_result"
    }
   ],
   "source": [
    "columns_to_encode = ['Make', 'Model', 'Clean Alternative Fuel Vehicle (CAFV) Eligibility']\n",
    "for column in columns_to_encode:\n",
    "    ev_subset[column] = lb.fit_transform(ev_subset[column])\n",
    "    \n",
    "ev_subset.head()"
   ]
  },
  {
   "cell_type": "code",
   "execution_count": 105,
   "id": "2ce97efa",
   "metadata": {},
   "outputs": [
    {
     "data": {
      "text/plain": [
       "OrdinalEncoder()"
      ]
     },
     "execution_count": 105,
     "metadata": {},
     "output_type": "execute_result"
    }
   ],
   "source": [
    "oe = OrdinalEncoder()\n",
    "oe"
   ]
  },
  {
   "cell_type": "code",
   "execution_count": 106,
   "id": "bdeb94f2",
   "metadata": {},
   "outputs": [
    {
     "name": "stderr",
     "output_type": "stream",
     "text": [
      "C:\\Users\\MARINE\\AppData\\Local\\Temp\\ipykernel_18444\\1744972901.py:1: SettingWithCopyWarning: \n",
      "A value is trying to be set on a copy of a slice from a DataFrame.\n",
      "Try using .loc[row_indexer,col_indexer] = value instead\n",
      "\n",
      "See the caveats in the documentation: https://pandas.pydata.org/pandas-docs/stable/user_guide/indexing.html#returning-a-view-versus-a-copy\n",
      "  ev_subset[['Electric Vehicle Type']] = oe.fit_transform(ev_subset[['Electric Vehicle Type']])\n"
     ]
    },
    {
     "data": {
      "text/html": [
       "<div>\n",
       "<style scoped>\n",
       "    .dataframe tbody tr th:only-of-type {\n",
       "        vertical-align: middle;\n",
       "    }\n",
       "\n",
       "    .dataframe tbody tr th {\n",
       "        vertical-align: top;\n",
       "    }\n",
       "\n",
       "    .dataframe thead th {\n",
       "        text-align: right;\n",
       "    }\n",
       "</style>\n",
       "<table border=\"1\" class=\"dataframe\">\n",
       "  <thead>\n",
       "    <tr style=\"text-align: right;\">\n",
       "      <th></th>\n",
       "      <th>Model Year</th>\n",
       "      <th>Make</th>\n",
       "      <th>Model</th>\n",
       "      <th>Electric Vehicle Type</th>\n",
       "      <th>Clean Alternative Fuel Vehicle (CAFV) Eligibility</th>\n",
       "      <th>Electric Range</th>\n",
       "      <th>Base MSRP</th>\n",
       "    </tr>\n",
       "  </thead>\n",
       "  <tbody>\n",
       "    <tr>\n",
       "      <th>0</th>\n",
       "      <td>2018</td>\n",
       "      <td>29</td>\n",
       "      <td>68</td>\n",
       "      <td>0.0</td>\n",
       "      <td>0</td>\n",
       "      <td>215</td>\n",
       "      <td>57244</td>\n",
       "    </tr>\n",
       "    <tr>\n",
       "      <th>1</th>\n",
       "      <td>2020</td>\n",
       "      <td>29</td>\n",
       "      <td>68</td>\n",
       "      <td>0.0</td>\n",
       "      <td>0</td>\n",
       "      <td>308</td>\n",
       "      <td>57244</td>\n",
       "    </tr>\n",
       "    <tr>\n",
       "      <th>2</th>\n",
       "      <td>2021</td>\n",
       "      <td>0</td>\n",
       "      <td>29</td>\n",
       "      <td>0.0</td>\n",
       "      <td>0</td>\n",
       "      <td>222</td>\n",
       "      <td>57244</td>\n",
       "    </tr>\n",
       "    <tr>\n",
       "      <th>3</th>\n",
       "      <td>2019</td>\n",
       "      <td>29</td>\n",
       "      <td>68</td>\n",
       "      <td>0.0</td>\n",
       "      <td>0</td>\n",
       "      <td>220</td>\n",
       "      <td>57244</td>\n",
       "    </tr>\n",
       "    <tr>\n",
       "      <th>4</th>\n",
       "      <td>2014</td>\n",
       "      <td>9</td>\n",
       "      <td>19</td>\n",
       "      <td>1.0</td>\n",
       "      <td>2</td>\n",
       "      <td>19</td>\n",
       "      <td>57244</td>\n",
       "    </tr>\n",
       "  </tbody>\n",
       "</table>\n",
       "</div>"
      ],
      "text/plain": [
       "   Model Year  Make  Model  Electric Vehicle Type  \\\n",
       "0        2018    29     68                    0.0   \n",
       "1        2020    29     68                    0.0   \n",
       "2        2021     0     29                    0.0   \n",
       "3        2019    29     68                    0.0   \n",
       "4        2014     9     19                    1.0   \n",
       "\n",
       "   Clean Alternative Fuel Vehicle (CAFV) Eligibility  Electric Range  \\\n",
       "0                                                  0             215   \n",
       "1                                                  0             308   \n",
       "2                                                  0             222   \n",
       "3                                                  0             220   \n",
       "4                                                  2              19   \n",
       "\n",
       "   Base MSRP  \n",
       "0      57244  \n",
       "1      57244  \n",
       "2      57244  \n",
       "3      57244  \n",
       "4      57244  "
      ]
     },
     "execution_count": 106,
     "metadata": {},
     "output_type": "execute_result"
    }
   ],
   "source": [
    "ev_subset[['Electric Vehicle Type']] = oe.fit_transform(ev_subset[['Electric Vehicle Type']])\n",
    "ev_subset.head()"
   ]
  },
  {
   "cell_type": "code",
   "execution_count": 107,
   "id": "b4c1897b",
   "metadata": {},
   "outputs": [
    {
     "data": {
      "text/plain": [
       "0    59179\n",
       "1    47417\n",
       "2    15382\n",
       "Name: Clean Alternative Fuel Vehicle (CAFV) Eligibility, dtype: int64"
      ]
     },
     "execution_count": 107,
     "metadata": {},
     "output_type": "execute_result"
    }
   ],
   "source": [
    "ev_subset['Clean Alternative Fuel Vehicle (CAFV) Eligibility'].value_counts()"
   ]
  },
  {
   "cell_type": "markdown",
   "id": "01054d03",
   "metadata": {},
   "source": [
    "## The Model"
   ]
  },
  {
   "cell_type": "markdown",
   "id": "a74d58ec",
   "metadata": {},
   "source": [
    "### Splitting the data"
   ]
  },
  {
   "cell_type": "code",
   "execution_count": 108,
   "id": "b5a0be73",
   "metadata": {},
   "outputs": [
    {
     "data": {
      "text/plain": [
       "Index(['Model Year', 'Make', 'Model', 'Electric Vehicle Type',\n",
       "       'Electric Range', 'Base MSRP'],\n",
       "      dtype='object')"
      ]
     },
     "execution_count": 108,
     "metadata": {},
     "output_type": "execute_result"
    }
   ],
   "source": [
    "X = ev_subset.drop(columns=['Clean Alternative Fuel Vehicle (CAFV) Eligibility'])\n",
    "X.columns"
   ]
  },
  {
   "cell_type": "code",
   "execution_count": 109,
   "id": "21e089f7",
   "metadata": {},
   "outputs": [
    {
     "data": {
      "text/plain": [
       "0    0\n",
       "1    0\n",
       "2    0\n",
       "3    0\n",
       "4    2\n",
       "Name: Clean Alternative Fuel Vehicle (CAFV) Eligibility, dtype: int32"
      ]
     },
     "execution_count": 109,
     "metadata": {},
     "output_type": "execute_result"
    }
   ],
   "source": [
    "y = ev_subset['Clean Alternative Fuel Vehicle (CAFV) Eligibility']\n",
    "y.head()"
   ]
  },
  {
   "cell_type": "code",
   "execution_count": 110,
   "id": "34ce0c1f",
   "metadata": {},
   "outputs": [],
   "source": [
    "X_train, X_test, y_train, y_test = train_test_split(X, y, test_size=0.2, random_state=0)"
   ]
  },
  {
   "cell_type": "markdown",
   "id": "7cd145b2",
   "metadata": {},
   "source": [
    "### Random Forest"
   ]
  },
  {
   "cell_type": "code",
   "execution_count": 111,
   "id": "4fe5cd46",
   "metadata": {},
   "outputs": [
    {
     "data": {
      "text/plain": [
       "156.19218930535547"
      ]
     },
     "execution_count": 111,
     "metadata": {},
     "output_type": "execute_result"
    }
   ],
   "source": [
    "# Determining value of k\n",
    "import math\n",
    "math.sqrt(len(y_test))"
   ]
  },
  {
   "cell_type": "code",
   "execution_count": 124,
   "id": "0b01cf83",
   "metadata": {},
   "outputs": [
    {
     "data": {
      "text/plain": [
       "KNeighborsClassifier(metric='euclidean', n_neighbors=200)"
      ]
     },
     "execution_count": 124,
     "metadata": {},
     "output_type": "execute_result"
    }
   ],
   "source": [
    "clf = KNeighborsClassifier(n_neighbors=200, metric='euclidean')\n",
    "clf.fit(X_train, y_train)"
   ]
  },
  {
   "cell_type": "code",
   "execution_count": 125,
   "id": "ba1e59b0",
   "metadata": {},
   "outputs": [
    {
     "name": "stderr",
     "output_type": "stream",
     "text": [
      "C:\\Users\\MARINE\\anaconda3\\lib\\site-packages\\sklearn\\neighbors\\_classification.py:228: FutureWarning: Unlike other reduction functions (e.g. `skew`, `kurtosis`), the default behavior of `mode` typically preserves the axis it acts along. In SciPy 1.11.0, this behavior will change: the default value of `keepdims` will become False, the `axis` over which the statistic is taken will be eliminated, and the value None will no longer be accepted. Set `keepdims` to True or False to avoid this warning.\n",
      "  mode, _ = stats.mode(_y[neigh_ind, k], axis=1)\n"
     ]
    },
    {
     "data": {
      "text/plain": [
       "array([1, 0, 1, ..., 2, 1, 1])"
      ]
     },
     "execution_count": 125,
     "metadata": {},
     "output_type": "execute_result"
    }
   ],
   "source": [
    "y_pred = clf.predict(X_test)\n",
    "y_pred"
   ]
  },
  {
   "cell_type": "markdown",
   "id": "e70204d5",
   "metadata": {},
   "source": [
    "### Model Evaluation"
   ]
  },
  {
   "cell_type": "code",
   "execution_count": 126,
   "id": "d49e66da",
   "metadata": {},
   "outputs": [
    {
     "data": {
      "text/plain": [
       "0.9964748319396622"
      ]
     },
     "execution_count": 126,
     "metadata": {},
     "output_type": "execute_result"
    }
   ],
   "source": [
    "accuracy_score(y_pred, y_test)"
   ]
  },
  {
   "cell_type": "code",
   "execution_count": 127,
   "id": "e16736ca",
   "metadata": {},
   "outputs": [
    {
     "name": "stdout",
     "output_type": "stream",
     "text": [
      "              precision    recall  f1-score   support\n",
      "\n",
      "           0       1.00      1.00      1.00     11890\n",
      "           1       1.00      1.00      1.00      9480\n",
      "           2       0.98      0.99      0.99      3026\n",
      "\n",
      "    accuracy                           1.00     24396\n",
      "   macro avg       0.99      0.99      0.99     24396\n",
      "weighted avg       1.00      1.00      1.00     24396\n",
      "\n"
     ]
    }
   ],
   "source": [
    "report = classification_report(y_pred, y_test)\n",
    "print(report)"
   ]
  },
  {
   "cell_type": "code",
   "execution_count": 128,
   "id": "a61b50da",
   "metadata": {},
   "outputs": [
    {
     "data": {
      "text/plain": [
       "array([[11843,     0,    47],\n",
       "       [    0,  9477,     3],\n",
       "       [   36,     0,  2990]], dtype=int64)"
      ]
     },
     "execution_count": 128,
     "metadata": {},
     "output_type": "execute_result"
    }
   ],
   "source": [
    "cm = confusion_matrix(y_pred, y_test)\n",
    "cm"
   ]
  },
  {
   "cell_type": "markdown",
   "id": "126f3c79",
   "metadata": {},
   "source": [
    "#### Plotting the Confusion Matrix"
   ]
  },
  {
   "cell_type": "code",
   "execution_count": 129,
   "id": "c4f841a1",
   "metadata": {},
   "outputs": [
    {
     "data": {
      "image/png": "[encoded data removed]",
      "text/plain": [
       "<Figure size 800x600 with 2 Axes>"
      ]
     },
     "metadata": {},
     "output_type": "display_data"
    }
   ],
   "source": [
    "plt.figure(figsize=(8, 6))\n",
    "plt.imshow(cm, interpolation='nearest', cmap=plt.cm.Blues)\n",
    "plt.colorbar()\n",
    "plt.title('Confusion Matrix')\n",
    "plt.xlabel('Predicted Class')\n",
    "plt.ylabel('True Class')\n",
    "plt.xticks(np.arange(3), ['Class 0', 'Class 1', 'Class 2'])\n",
    "plt.yticks(np.arange(3), ['Class 0', 'Class 1', 'Class 2'])\n",
    "plt.show()"
   ]
  },
  {
   "cell_type": "code",
   "execution_count": null,
   "id": "78b83f71",
   "metadata": {},
   "outputs": [],
   "source": []
  }
 ],
 "metadata": {
  "kernelspec": {
   "display_name": "Python 3 (ipykernel)",
   "language": "python",
   "name": "python3"
  },
  "language_info": {
   "codemirror_mode": {
    "name": "ipython",
    "version": 3
   },
   "file_extension": ".py",
   "mimetype": "text/x-python",
   "name": "python",
   "nbconvert_exporter": "python",
   "pygments_lexer": "ipython3",
   "version": "3.9.13"
  }
 },
 "nbformat": 4,
 "nbformat_minor": 5
}
